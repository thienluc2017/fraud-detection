{
  "nbformat": 4,
  "nbformat_minor": 0,
  "metadata": {
    "colab": {
      "name": "LGBM.ipynb",
      "provenance": [],
      "authorship_tag": "ABX9TyO4uC6AAQcMOc39QvvjrOQx",
      "include_colab_link": true
    },
    "kernelspec": {
      "name": "python3",
      "display_name": "Python 3"
    },
    "language_info": {
      "name": "python"
    }
  },
  "cells": [
    {
      "cell_type": "markdown",
      "metadata": {
        "id": "view-in-github",
        "colab_type": "text"
      },
      "source": [
        "<a href=\"https://colab.research.google.com/github/thienluc2017/fraud-detection/blob/main/LGBM.ipynb\" target=\"_parent\"><img src=\"https://colab.research.google.com/assets/colab-badge.svg\" alt=\"Open In Colab\"/></a>"
      ]
    },
    {
      "cell_type": "code",
      "execution_count": null,
      "metadata": {
        "colab": {
          "base_uri": "https://localhost:8080/"
        },
        "id": "NK5H-8EJ00QM",
        "outputId": "bac72128-1552-41b6-8462-6aedaebbd407"
      },
      "outputs": [
        {
          "output_type": "stream",
          "name": "stdout",
          "text": [
            "Mounted at /content/drive\n"
          ]
        }
      ],
      "source": [
        "#kết nối với drive\n",
        "from google.colab import drive      \n",
        "drive.mount('/content/drive')"
      ]
    },
    {
      "cell_type": "code",
      "source": [
        "#load thư viện cần thiết và các tệp trong dữ liệu\n",
        "import pandas as pd   \n",
        "import numpy as np    \n",
        "identity = pd.read_csv('/content/drive/MyDrive/data/train_identity.csv')   "
      ],
      "metadata": {
        "id": "G9j4H9_m5b4A"
      },
      "execution_count": null,
      "outputs": []
    },
    {
      "cell_type": "code",
      "source": [
        "transaction = pd.read_csv('/content/drive/MyDrive/data/train_transaction.csv')  "
      ],
      "metadata": {
        "id": "0uwhCnbR5b6o"
      },
      "execution_count": null,
      "outputs": []
    },
    {
      "cell_type": "code",
      "source": [
        "#Nối 2 tệp giúp cho việc xử lý dữ liệu tốt hơn\n",
        "train = transaction.merge(identity, how = 'left')  "
      ],
      "metadata": {
        "id": "ULCrEdso5b9K"
      },
      "execution_count": null,
      "outputs": []
    },
    {
      "cell_type": "code",
      "source": [
        "#hàm giảm bộ nhớ dữ liệu\n",
        "def reduce_mem_usage(df):\n",
        "    \"\"\" iterate through all the columns of a dataframe and modify the data type\n",
        "        to reduce memory usage.        \n",
        "    \"\"\"\n",
        "    start_mem = df.memory_usage().sum() / 1024**2\n",
        "    print('Memory usage of dataframe is {:.2f} MB'.format(start_mem))\n",
        "    \n",
        "    for col in df.columns:\n",
        "        col_type = df[col].dtype\n",
        "        \n",
        "        if col_type != object:\n",
        "            c_min = df[col].min()\n",
        "            c_max = df[col].max()\n",
        "            if str(col_type)[:3] == 'int':\n",
        "                if c_min > np.iinfo(np.int8).min and c_max < np.iinfo(np.int8).max:\n",
        "                    df[col] = df[col].astype(np.int8)\n",
        "                elif c_min > np.iinfo(np.int16).min and c_max < np.iinfo(np.int16).max:\n",
        "                    df[col] = df[col].astype(np.int16)\n",
        "                elif c_min > np.iinfo(np.int32).min and c_max < np.iinfo(np.int32).max:\n",
        "                    df[col] = df[col].astype(np.int32)\n",
        "                elif c_min > np.iinfo(np.int64).min and c_max < np.iinfo(np.int64).max:\n",
        "                    df[col] = df[col].astype(np.int64)  \n",
        "            else:\n",
        "                if c_min > np.finfo(np.float16).min and c_max < np.finfo(np.float16).max:\n",
        "                    df[col] = df[col].astype(np.float16)\n",
        "                elif c_min > np.finfo(np.float32).min and c_max < np.finfo(np.float32).max:\n",
        "                    df[col] = df[col].astype(np.float32)\n",
        "                else:\n",
        "                    df[col] = df[col].astype(np.float64)\n",
        "        else:\n",
        "            df[col] = df[col].astype('category')\n",
        "\n",
        "    end_mem = df.memory_usage().sum() / 1024**2\n",
        "    print('Memory usage after optimization is: {:.2f} MB'.format(end_mem))\n",
        "    print('Decreased by {:.1f}%'.format(100 * (start_mem - end_mem) / start_mem))\n",
        "    \n",
        "    return df"
      ],
      "metadata": {
        "id": "2HDZlEA_5b_b"
      },
      "execution_count": null,
      "outputs": []
    },
    {
      "cell_type": "markdown",
      "source": [
        "#**1.Xử lý dữ liệu**"
      ],
      "metadata": {
        "id": "cKr7MVwreUZ6"
      }
    },
    {
      "cell_type": "code",
      "source": [
        "null_cols = [col for col in train.columns if train[col].isnull().sum() / train.shape[0] > 0.9]"
      ],
      "metadata": {
        "id": "LbUh00ww5cB9"
      },
      "execution_count": null,
      "outputs": []
    },
    {
      "cell_type": "code",
      "source": [
        "train.drop(null_cols,axis=1,inplace=True)"
      ],
      "metadata": {
        "id": "O5QO_12P5cER"
      },
      "execution_count": null,
      "outputs": []
    },
    {
      "cell_type": "code",
      "source": [
        "#điền các dữ liệu bị missing\n",
        "for i in train.columns:\n",
        "    if train[i].dtypes=='int64' or train[i].dtypes=='float64':   \n",
        "        train[i].fillna(train[i].mean(),inplace=True)"
      ],
      "metadata": {
        "id": "cYWbGmWr5cGp"
      },
      "execution_count": null,
      "outputs": []
    },
    {
      "cell_type": "code",
      "source": [
        "#điền các dữ liệu bị missing\n",
        "for i in train.columns:\n",
        "    if train[i].dtypes=='object':     \n",
        "        train[i].fillna(train[i].mode()[0],inplace=True)"
      ],
      "metadata": {
        "id": "2yQewjfR5cJE"
      },
      "execution_count": null,
      "outputs": []
    },
    {
      "cell_type": "code",
      "source": [
        "train.shape"
      ],
      "metadata": {
        "colab": {
          "base_uri": "https://localhost:8080/"
        },
        "id": "nmEUmPAf5cLl",
        "outputId": "7bf14763-dde1-4664-e28d-d492ace01ac9"
      },
      "execution_count": null,
      "outputs": [
        {
          "output_type": "execute_result",
          "data": {
            "text/plain": [
              "(590540, 422)"
            ]
          },
          "metadata": {},
          "execution_count": 10
        }
      ]
    },
    {
      "cell_type": "code",
      "source": [
        "train['transaction_day_of_the_week'] = np.floor((train['TransactionDT'] / (3600 * 24) - 1) % 7)"
      ],
      "metadata": {
        "id": "hR9eA9bd5cN9"
      },
      "execution_count": null,
      "outputs": []
    },
    {
      "cell_type": "code",
      "source": [
        "train['Transaction_hour'] = np.floor(train['TransactionDT'] / 3600) % 24"
      ],
      "metadata": {
        "id": "TMDJPl9x5cQR"
      },
      "execution_count": null,
      "outputs": []
    },
    {
      "cell_type": "code",
      "source": [
        "train['device_name'] = train['DeviceInfo'].str.split('/', expand=True)[0]  "
      ],
      "metadata": {
        "id": "5KFOth_k5cS4"
      },
      "execution_count": null,
      "outputs": []
    },
    {
      "cell_type": "code",
      "source": [
        "train['device_version'] = train['DeviceInfo'].str.split('/', expand=True)[1]  "
      ],
      "metadata": {
        "id": "sR8FERik5cVi"
      },
      "execution_count": null,
      "outputs": []
    },
    {
      "cell_type": "code",
      "source": [
        "train['OS_id_30'] = train['id_30'].str.split(' ', expand=True)[0]   "
      ],
      "metadata": {
        "id": "2dgvVTrm5cX3"
      },
      "execution_count": null,
      "outputs": []
    },
    {
      "cell_type": "code",
      "source": [
        "train['version_id_30'] = train['id_30'].str.split(' ', expand=True)[1]   "
      ],
      "metadata": {
        "id": "cRiM7KBK5caq"
      },
      "execution_count": null,
      "outputs": []
    },
    {
      "cell_type": "code",
      "source": [
        "train['browser_id_31'] = train['id_31'].str.split(' ', expand=True)[0]   "
      ],
      "metadata": {
        "id": "DnBmZFYz5cdR"
      },
      "execution_count": null,
      "outputs": []
    },
    {
      "cell_type": "code",
      "source": [
        "train['version_id_31'] = train['id_31'].str.split(' ', expand=True)[1]  "
      ],
      "metadata": {
        "id": "eGNp3qEN5cgI"
      },
      "execution_count": null,
      "outputs": []
    },
    {
      "cell_type": "code",
      "source": [
        "train['id_34'] = train['id_34'].str.split(':', expand=True)[1]"
      ],
      "metadata": {
        "id": "s0jlVeO-5ci0"
      },
      "execution_count": null,
      "outputs": []
    },
    {
      "cell_type": "code",
      "source": [
        "train.loc[train['device_name'].str.contains('SM', na=False), 'device_name'] = 'Samsung'"
      ],
      "metadata": {
        "id": "h1yGwLXK5cp1"
      },
      "execution_count": null,
      "outputs": []
    },
    {
      "cell_type": "code",
      "source": [
        "train.loc[train['device_name'].str.contains('SAMSUNG', na=False), 'device_name'] = 'Samsung'"
      ],
      "metadata": {
        "id": "OO8a03oF5cs0"
      },
      "execution_count": null,
      "outputs": []
    },
    {
      "cell_type": "code",
      "source": [
        "train.loc[train['device_name'].str.contains('GT-', na=False), 'device_name'] = 'Samsung'"
      ],
      "metadata": {
        "id": "qv2fm4bA5cvv"
      },
      "execution_count": null,
      "outputs": []
    },
    {
      "cell_type": "code",
      "source": [
        "train.loc[train['device_name'].str.contains('Moto G', na=False), 'device_name'] = 'Motorola'\n",
        "train.loc[train['device_name'].str.contains('Moto', na=False), 'device_name'] = 'Motorola'\n",
        "train.loc[train['device_name'].str.contains('moto', na=False), 'device_name'] = 'Motorola'\n",
        "train.loc[train['device_name'].str.contains('LG-', na=False), 'device_name'] = 'LG'\n",
        "train.loc[train['device_name'].str.contains('rv:', na=False), 'device_name'] = 'RV'\n",
        "train.loc[train['device_name'].str.contains('HUAWEI', na=False), 'device_name'] = 'Huawei'\n",
        "train.loc[train['device_name'].str.contains('ALE-', na=False), 'device_name'] = 'Huawei'\n",
        "train.loc[train['device_name'].str.contains('-L', na=False), 'device_name'] = 'Huawei'\n",
        "train.loc[train['device_name'].str.contains('Blade', na=False), 'device_name'] = 'ZTE'\n",
        "train.loc[train['device_name'].str.contains('BLADE', na=False), 'device_name'] = 'ZTE'\n",
        "train.loc[train['device_name'].str.contains('Linux', na=False), 'device_name'] = 'Linux'\n",
        "train.loc[train['device_name'].str.contains('XT', na=False), 'device_name'] = 'Sony'\n",
        "train.loc[train['device_name'].str.contains('HTC', na=False), 'device_name'] = 'HTC'\n",
        "train.loc[train['device_name'].str.contains('ASUS', na=False), 'device_name'] = 'Asus'\n",
        "train.loc[train.device_name.isin(train.device_name.value_counts()[train.device_name.value_counts() < 200].index), 'device_name'] = \"Others\""
      ],
      "metadata": {
        "id": "u6jnA6w75cy5"
      },
      "execution_count": null,
      "outputs": []
    },
    {
      "cell_type": "code",
      "source": [
        "train.loc[train['device_name']=='Others'].count()"
      ],
      "metadata": {
        "colab": {
          "base_uri": "https://localhost:8080/"
        },
        "id": "UHIPprja5c1z",
        "outputId": "6fe38f4b-ffaa-4162-91a8-e41b00c654fe"
      },
      "execution_count": null,
      "outputs": [
        {
          "output_type": "execute_result",
          "data": {
            "text/plain": [
              "TransactionID     5530\n",
              "isFraud           5530\n",
              "TransactionDT     5530\n",
              "TransactionAmt    5530\n",
              "ProductCD         5530\n",
              "                  ... \n",
              "device_version    4140\n",
              "OS_id_30          5530\n",
              "version_id_30     5411\n",
              "browser_id_31     5530\n",
              "version_id_31     5209\n",
              "Length: 430, dtype: int64"
            ]
          },
          "metadata": {},
          "execution_count": 24
        }
      ]
    },
    {
      "cell_type": "code",
      "source": [
        "train_vcol =[]\n",
        "for i in range(1,340):\n",
        "  train_vcol.append('V'+str(i))\n",
        "vcol=train[train_vcol] \n",
        "from sklearn.decomposition import PCA\n",
        "pca = PCA(n_components = 3)\n",
        "pca.fit(vcol)\n",
        "pca.explained_variance_ratio_.sum()"
      ],
      "metadata": {
        "colab": {
          "base_uri": "https://localhost:8080/"
        },
        "id": "FPjoWPwO5c4y",
        "outputId": "ebdabce2-9060-4aeb-ab24-817d0951b146"
      },
      "execution_count": null,
      "outputs": [
        {
          "output_type": "execute_result",
          "data": {
            "text/plain": [
              "0.9947927236500623"
            ]
          },
          "metadata": {},
          "execution_count": 25
        }
      ]
    },
    {
      "cell_type": "code",
      "source": [
        "vcol1=pca.transform(vcol)\n",
        "train.drop(vcol,axis=1,inplace=True)\n",
        "vcol1 = pd.DataFrame(vcol1)\n",
        "train=pd.concat([train,vcol1],axis=1)\n",
        "train = reduce_mem_usage(train)"
      ],
      "metadata": {
        "colab": {
          "base_uri": "https://localhost:8080/"
        },
        "id": "-ngoaV715c7r",
        "outputId": "00f3fb39-7b00-4e94-b8ec-e96a6adfda7b"
      },
      "execution_count": null,
      "outputs": [
        {
          "output_type": "stream",
          "name": "stdout",
          "text": [
            "Memory usage of dataframe is 428.02 MB\n",
            "Memory usage after optimization is: 99.26 MB\n",
            "Decreased by 76.8%\n"
          ]
        }
      ]
    },
    {
      "cell_type": "code",
      "source": [
        "train.shape"
      ],
      "metadata": {
        "colab": {
          "base_uri": "https://localhost:8080/"
        },
        "id": "FqCDe4RD5c-d",
        "outputId": "81e8127a-f0d2-4144-ec37-7d4a7ed3111c"
      },
      "execution_count": null,
      "outputs": [
        {
          "output_type": "execute_result",
          "data": {
            "text/plain": [
              "(590540, 94)"
            ]
          },
          "metadata": {},
          "execution_count": 27
        }
      ]
    },
    {
      "cell_type": "code",
      "source": [
        "cat_cols = ['id_12','id_15', 'id_16','id_28', 'id_29','id_30', 'id_31', 'id_33', 'id_34', 'id_35', \n",
        "            'id_36', 'id_37', 'id_38', 'DeviceType', 'DeviceInfo', 'ProductCD', 'card4', 'card6', 'M4','P_emaildomain',\n",
        "            'R_emaildomain', 'addr1', 'addr2', 'M1', 'M2', 'M3', 'M5', 'M6', 'M7', 'M8', 'M9','device_name','device_version','OS_id_30','version_id_30']"
      ],
      "metadata": {
        "id": "Vt4CfgVR5dBj"
      },
      "execution_count": null,
      "outputs": []
    },
    {
      "cell_type": "code",
      "source": [
        "from sklearn.preprocessing import LabelEncoder\n",
        "le = LabelEncoder()\n",
        "for i in cat_cols:\n",
        "  if i in train.columns:\n",
        "    train[i] = le.fit_transform(train[i].astype(str).values)"
      ],
      "metadata": {
        "id": "RVqC2d7v5dEg"
      },
      "execution_count": null,
      "outputs": []
    },
    {
      "cell_type": "code",
      "source": [
        "y= train['isFraud']\n",
        "print(y.shape)"
      ],
      "metadata": {
        "colab": {
          "base_uri": "https://localhost:8080/"
        },
        "id": "LVCAVAqh5dHR",
        "outputId": "ddbd8623-9ba5-4bc1-b985-06f854e7907b"
      },
      "execution_count": null,
      "outputs": [
        {
          "output_type": "stream",
          "name": "stdout",
          "text": [
            "(590540,)\n"
          ]
        }
      ]
    },
    {
      "cell_type": "code",
      "source": [
        "x = train.drop(['isFraud','TransactionID','TransactionDT'],axis=1)\n",
        "print(x.shape)"
      ],
      "metadata": {
        "colab": {
          "base_uri": "https://localhost:8080/"
        },
        "id": "o5knO83i5dKU",
        "outputId": "e5172265-346e-435c-f6c5-d161df79dffa"
      },
      "execution_count": null,
      "outputs": [
        {
          "output_type": "stream",
          "name": "stdout",
          "text": [
            "(590540, 91)\n"
          ]
        }
      ]
    },
    {
      "cell_type": "code",
      "source": [
        "from sklearn.model_selection import train_test_split\n",
        "x_train,x_test,y_train,y_test = train_test_split(x,y,stratify = y,test_size = 0.3, random_state=1)"
      ],
      "metadata": {
        "id": "M9vk2GQe5dM9"
      },
      "execution_count": null,
      "outputs": []
    },
    {
      "cell_type": "markdown",
      "source": [
        "#**2.LGBM**"
      ],
      "metadata": {
        "id": "jjqZm68m6cBr"
      }
    },
    {
      "cell_type": "code",
      "source": [
        "#chuẩn bị model ,dữ liệu và huấn luyện\n",
        "%timeit\n",
        "import lightgbm as lgb\n",
        "d_train = lgb.Dataset(x_train,label=y_train)\n",
        "params={}\n",
        "params['task'] = 'train'                       \n",
        "params['boosting_type'] = \"gbdt\"\n",
        "params['application'] = 'classification'\n",
        "params['objective'] = 'binary'\n",
        "params['metric'] = 'auc'\n",
        "params['random_state'] = 1\n",
        "model = lgb.train(params, d_train, 5000)     "
      ],
      "metadata": {
        "id": "r1izuBwk5dP3"
      },
      "execution_count": null,
      "outputs": []
    },
    {
      "cell_type": "code",
      "source": [
        "predict = model.predict(x_test)     "
      ],
      "metadata": {
        "id": "U2vnPAkP5dS2"
      },
      "execution_count": null,
      "outputs": []
    },
    {
      "cell_type": "code",
      "source": [
        "from sklearn.metrics import confusion_matrix\n",
        "from sklearn.metrics import roc_auc_score"
      ],
      "metadata": {
        "id": "0HCI41-p5dVw"
      },
      "execution_count": null,
      "outputs": []
    },
    {
      "cell_type": "code",
      "source": [
        "#in ra các số liệu\n",
        "predict = model.predict(x_test)\n",
        "ROC=[]\n",
        "ACC = []\n",
        "for j in np.arange(0.1,0.99,step=.05):\n",
        "  predict2=np.array(list(predict))\n",
        "  for i in range(len(y_test)):\n",
        "    if predict[i]>=j:\n",
        "      predict2[i]=1               \n",
        "    else:\n",
        "      predict2[i]=0\n",
        "  ROC.append(roc_auc_score(predict2,y_test))\n",
        "  conf = confusion_matrix(predict2,y_test)\n",
        "  ACC.append((conf[0,0]+conf[1,1]) / len(y_test))\n",
        "print(ROC)\n",
        "print(ACC)"
      ],
      "metadata": {
        "colab": {
          "base_uri": "https://localhost:8080/"
        },
        "id": "24sZErXW5dYr",
        "outputId": "8b961756-0f41-4f63-d1a7-1a312923fc20"
      },
      "execution_count": null,
      "outputs": [
        {
          "output_type": "stream",
          "name": "stdout",
          "text": [
            "[0.9279545940569716, 0.9458712632727909, 0.9570053048788802, 0.9647806134938127, 0.9690144270941539, 0.9724979947526149, 0.9762618978499138, 0.9781443028760859, 0.980561651868748, 0.9815246681300049, 0.9821640370475009, 0.9831994285989711, 0.9838975344443514, 0.9849540026122411, 0.9860935149958556, 0.9862572516184089, 0.9864523099597138, 0.9868366229017502]\n",
            "[0.987977105699868, 0.9886883191655096, 0.9889423239746673, 0.9890326367957011, 0.9889253903207234, 0.9886657409602511, 0.9885415608313295, 0.9883327124326887, 0.9881577313419356, 0.9878472810196317, 0.9875029633894402, 0.987181223964507, 0.9868199726803716, 0.9864135649857193, 0.9858773326108308, 0.985137896388616, 0.9842065454217044, 0.9826373601562411]\n"
          ]
        }
      ]
    },
    {
      "cell_type": "code",
      "source": [
        "#biểu đồ line graph\n",
        "import matplotlib.pyplot as plt\n",
        "from matplotlib import style\n",
        "style.use('ggplot')\n",
        "plt.ylabel('AUC SCORE')          \n",
        "plt.xlabel('Cut off')\n",
        "plt.plot(np.arange(0.1,0.99,step=.05),ROC,label='AUC')\n",
        "plt.plot(np.arange(0.1,0.99,step=.05),ACC,label='Acurracy')\n",
        "plt.legend()\n",
        "plt.show()"
      ],
      "metadata": {
        "colab": {
          "base_uri": "https://localhost:8080/",
          "height": 282
        },
        "id": "Vxg99E_w5dbl",
        "outputId": "47e53162-29e3-4df1-f7df-ddbe91d0df4c"
      },
      "execution_count": null,
      "outputs": [
        {
          "output_type": "display_data",
          "data": {
            "image/png": "[encoded data removed]",
            "text/plain": [
              "<Figure size 432x288 with 1 Axes>"
            ]
          },
          "metadata": {}
        }
      ]
    },
    {
      "cell_type": "code",
      "source": [
        "predict3 = np.array(list(predict))\n",
        "for i in range(len(y_test)):\n",
        "  if predict[i]>=0.2:            \n",
        "    predict3[i]=1\n",
        "  else:\n",
        "    predict3[i]=0"
      ],
      "metadata": {
        "id": "4xv3Q1ED6no9"
      },
      "execution_count": null,
      "outputs": []
    },
    {
      "cell_type": "code",
      "source": [
        "#biểu đồ confusion matrix\n",
        "import matplotlib.pyplot as plt\n",
        "import seaborn as sns\n",
        "from sklearn.metrics import confusion_matrix\n",
        "cm = confusion_matrix(y_test,predict3)\n",
        "sns.heatmap(cm,annot=True,fmt='.2f')\n",
        "plt.title('confusion_matrix')         \n",
        "plt.xlabel('Actual Class')\n",
        "plt.ylabel('predicted class')\n",
        "plt.show()"
      ],
      "metadata": {
        "colab": {
          "base_uri": "https://localhost:8080/",
          "height": 299
        },
        "id": "Q54szTjt6nyf",
        "outputId": "13fcbfb2-88f6-4cd0-ea57-efcd1b9cfcfc"
      },
      "execution_count": null,
      "outputs": [
        {
          "output_type": "display_data",
          "data": {
            "image/png": "[encoded data removed]",
            "text/plain": [
              "<Figure size 432x288 with 2 Axes>"
            ]
          },
          "metadata": {}
        }
      ]
    },
    {
      "cell_type": "code",
      "source": [
        "#in ra kết quả AUC(ROC)\n",
        "roc_auc_score(y_test,predict3)    "
      ],
      "metadata": {
        "colab": {
          "base_uri": "https://localhost:8080/"
        },
        "id": "JRKgxQHS6n1I",
        "outputId": "12641f33-260b-4a47-9e31-3d7925744520"
      },
      "execution_count": null,
      "outputs": [
        {
          "output_type": "execute_result",
          "data": {
            "text/plain": [
              "0.8719180647350986"
            ]
          },
          "metadata": {},
          "execution_count": 40
        }
      ]
    }
  ]
}